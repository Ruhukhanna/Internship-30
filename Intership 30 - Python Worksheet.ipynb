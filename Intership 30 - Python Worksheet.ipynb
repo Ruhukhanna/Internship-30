{
 "cells": [
  {
   "cell_type": "markdown",
   "id": "03e877fb",
   "metadata": {},
   "source": [
    "# Pyhthon Worksheet"
   ]
  },
  {
   "cell_type": "markdown",
   "id": "d830617b",
   "metadata": {},
   "source": [
    "Write a python program to find the factorial of a number."
   ]
  },
  {
   "cell_type": "code",
   "execution_count": 3,
   "id": "209d07a7",
   "metadata": {},
   "outputs": [
    {
     "name": "stdout",
     "output_type": "stream",
     "text": [
      "Enter a number: 4\n",
      "The factorial of the number is 1\n"
     ]
    }
   ],
   "source": [
    "a=int(input(\"Enter a number: \"))\n",
    "f=1\n",
    "for i in range(1,a+1):\n",
    "    f=f*1\n",
    "    \n",
    "print(f'The factorial of the number is {f}')"
   ]
  },
  {
   "cell_type": "markdown",
   "id": "9b7a1d6f",
   "metadata": {},
   "source": [
    "Write a python program to find whether a number is prime or composite."
   ]
  },
  {
   "cell_type": "code",
   "execution_count": 5,
   "id": "5b6d25c1",
   "metadata": {},
   "outputs": [
    {
     "name": "stdout",
     "output_type": "stream",
     "text": [
      "Enter the number to check prime or composite: 4\n",
      "The number is composite number\n"
     ]
    }
   ],
   "source": [
    "number=int(input(\"Enter the number to check prime or composite: \"))\n",
    "\n",
    "count=0\n",
    "\n",
    "for i in range(2,int(number/2)+1):\n",
    "\n",
    "   if(number%i==0):\n",
    "\n",
    "       count=1\n",
    "\n",
    "       break\n",
    "\n",
    "if(count==0):\n",
    "\n",
    "   print(\"The number is prime number\")\n",
    "\n",
    "else:\n",
    "\n",
    "   print(\"The number is composite number\")"
   ]
  },
  {
   "cell_type": "markdown",
   "id": "a1ab3d4e",
   "metadata": {},
   "source": [
    "Write a python program to check whether a given string is palindrome or not."
   ]
  },
  {
   "cell_type": "code",
   "execution_count": 8,
   "id": "61acebc8",
   "metadata": {},
   "outputs": [
    {
     "name": "stdout",
     "output_type": "stream",
     "text": [
      "Enter a string.4\n",
      "No, it is not a palindrome.\n"
     ]
    }
   ],
   "source": [
    "def check_palin (str):\n",
    "\n",
    "              for i in range (0, int (len (str)/2)):\n",
    "\n",
    "                             if str [i] != str [len (str) -i-1]:\n",
    "\n",
    "                                            return False \n",
    "\n",
    "                             return True\n",
    "\n",
    "str_1 = input ('Enter a string.')\n",
    "\n",
    "ans = check_palin (str_1)\n",
    "\n",
    "if (ans):\n",
    "\n",
    "              print ('Yes, it is a palindrome.')\n",
    "\n",
    "else:\n",
    "\n",
    "              print ('No, it is not a palindrome.')"
   ]
  },
  {
   "cell_type": "markdown",
   "id": "e6de24c6",
   "metadata": {},
   "source": [
    "Write a Python program to get the third side of right-angled triangle from two given sides."
   ]
  },
  {
   "cell_type": "code",
   "execution_count": 11,
   "id": "bf4532b6",
   "metadata": {},
   "outputs": [
    {
     "name": "stdout",
     "output_type": "stream",
     "text": [
      "Enter base: 10.5\n",
      "Enter height: 5.5\n",
      "Enter angle: 60\n",
      "Hypotenuse = 11.853269591129697\n"
     ]
    }
   ],
   "source": [
    "import math\n",
    "\n",
    "a = float(input(\"Enter base: \"))\n",
    "b = float(input(\"Enter height: \"))\n",
    "x = float(input(\"Enter angle: \"))\n",
    "\n",
    "c = math.sqrt(a ** 2 + b ** 2)\n",
    "\n",
    "print(\"Hypotenuse =\", c)"
   ]
  },
  {
   "cell_type": "markdown",
   "id": "0dc187ec",
   "metadata": {},
   "source": [
    "Write a python program to print the frequency of each of the characters present in a given string."
   ]
  },
  {
   "cell_type": "code",
   "execution_count": 15,
   "id": "bdb39be0",
   "metadata": {},
   "outputs": [
    {
     "name": "stdout",
     "output_type": "stream",
     "text": [
      "{'T': 1, 'h': 1, 'i': 3, 's': 3, ' ': 3, 'a': 1, 't': 1, 'r': 1, 'n': 1, 'g': 1}\n"
     ]
    }
   ],
   "source": [
    "s = \"This is a string\" \n",
    " \n",
    "freq = {} \n",
    " \n",
    "for char in s: \n",
    "    freq[char] = freq.get(char, 0) + 1 \n",
    "     \n",
    "print(freq) "
   ]
  },
  {
   "cell_type": "code",
   "execution_count": null,
   "id": "2cb52be9",
   "metadata": {},
   "outputs": [],
   "source": []
  }
 ],
 "metadata": {
  "kernelspec": {
   "display_name": "Python 3 (ipykernel)",
   "language": "python",
   "name": "python3"
  },
  "language_info": {
   "codemirror_mode": {
    "name": "ipython",
    "version": 3
   },
   "file_extension": ".py",
   "mimetype": "text/x-python",
   "name": "python",
   "nbconvert_exporter": "python",
   "pygments_lexer": "ipython3",
   "version": "3.9.7"
  }
 },
 "nbformat": 4,
 "nbformat_minor": 5
}
